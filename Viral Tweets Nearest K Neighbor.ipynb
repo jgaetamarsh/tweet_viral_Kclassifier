{
 "cells": [
  {
   "cell_type": "code",
   "execution_count": 1,
   "metadata": {},
   "outputs": [
    {
     "name": "stdout",
     "output_type": "stream",
     "text": [
      "11099\n",
      "Index(['created_at', 'id', 'id_str', 'text', 'truncated', 'entities',\n",
      "       'metadata', 'source', 'in_reply_to_status_id',\n",
      "       'in_reply_to_status_id_str', 'in_reply_to_user_id',\n",
      "       'in_reply_to_user_id_str', 'in_reply_to_screen_name', 'user', 'geo',\n",
      "       'coordinates', 'place', 'contributors', 'retweeted_status',\n",
      "       'is_quote_status', 'retweet_count', 'favorite_count', 'favorited',\n",
      "       'retweeted', 'lang', 'possibly_sensitive', 'quoted_status_id',\n",
      "       'quoted_status_id_str', 'extended_entities', 'quoted_status',\n",
      "       'withheld_in_countries'],\n",
      "      dtype='object')\n",
      "RT @KWWLStormTrack7: We are more than a month into summer but the days are getting shorter. The sunrise is about 25 minutes later on July 3…\n"
     ]
    }
   ],
   "source": [
    "import pandas as pd\n",
    "\n",
    "all_tweets = pd.read_json(\"random_tweets.json\", lines=True)\n",
    "\n",
    "print(len(all_tweets))\n",
    "print(all_tweets.columns)\n",
    "print(all_tweets.loc[0]['text'])"
   ]
  },
  {
   "cell_type": "code",
   "execution_count": 2,
   "metadata": {},
   "outputs": [
    {
     "name": "stdout",
     "output_type": "stream",
     "text": [
      "13.0\n"
     ]
    }
   ],
   "source": [
    "import numpy as np\n",
    "print(np.median(all_tweets[\"retweet_count\"]))"
   ]
  },
  {
   "cell_type": "code",
   "execution_count": 3,
   "metadata": {},
   "outputs": [
    {
     "data": {
      "text/plain": [
       "0    5562\n",
       "1    5537\n",
       "Name: is_viral, dtype: int64"
      ]
     },
     "execution_count": 3,
     "metadata": {},
     "output_type": "execute_result"
    }
   ],
   "source": [
    "all_tweets['is_viral'] = np.where(all_tweets['retweet_count'] > 13, 1, 0)\n",
    "all_tweets['is_viral'].value_counts()"
   ]
  },
  {
   "cell_type": "code",
   "execution_count": 4,
   "metadata": {},
   "outputs": [],
   "source": [
    "all_tweets['tweet_length'] = all_tweets.apply(lambda tweet: len(tweet['text']), axis=1)\n",
    "all_tweets['followers_count'] = all_tweets.apply(lambda tweet: tweet['user']['followers_count'], axis=1)\n",
    "all_tweets['friends_count'] = all_tweets.apply(lambda tweet: tweet['user']['friends_count'], axis=1)"
   ]
  },
  {
   "cell_type": "code",
   "execution_count": 5,
   "metadata": {},
   "outputs": [],
   "source": [
    "all_tweets['hashtags'] = all_tweets.apply(lambda tweet: tweet['text'].count(\"#\"), axis=1)\n",
    "all_tweets['links'] = all_tweets.apply(lambda tweet: tweet['text'].count(\"http\"), axis=1)\n",
    "all_tweets['words'] = all_tweets.apply(lambda tweet: len(tweet['text'].split()), axis=1)"
   ]
  },
  {
   "cell_type": "code",
   "execution_count": 6,
   "metadata": {},
   "outputs": [
    {
     "name": "stdout",
     "output_type": "stream",
     "text": [
      "                 created_at                   id               id_str  \\\n",
      "0 2018-07-31 13:34:40+00:00  1024287229525598210  1024287229525598208   \n",
      "1 2018-07-31 13:34:40+00:00  1024287229512953856  1024287229512953856   \n",
      "2 2018-07-31 13:34:40+00:00  1024287229504569344  1024287229504569344   \n",
      "3 2018-07-31 13:34:40+00:00  1024287229496029190  1024287229496029184   \n",
      "4 2018-07-31 13:34:40+00:00  1024287229492031490  1024287229492031488   \n",
      "\n",
      "                                                text  truncated  \\\n",
      "0  RT @KWWLStormTrack7: We are more than a month ...      False   \n",
      "1  @hail_ee23 Thanks love its just the feeling of...      False   \n",
      "2  RT @TransMediaWatch: Pink News has more on the...      False   \n",
      "3  RT @realDonaldTrump: One of the reasons we nee...      False   \n",
      "4  RT @First5App: This hearing of His Word doesn’...      False   \n",
      "\n",
      "                                            entities  \\\n",
      "0  {'hashtags': [], 'symbols': [], 'user_mentions...   \n",
      "1  {'hashtags': [], 'symbols': [], 'user_mentions...   \n",
      "2  {'hashtags': [], 'symbols': [], 'user_mentions...   \n",
      "3  {'hashtags': [], 'symbols': [], 'user_mentions...   \n",
      "4  {'hashtags': [], 'symbols': [], 'user_mentions...   \n",
      "\n",
      "                                            metadata  \\\n",
      "0  {'iso_language_code': 'en', 'result_type': 're...   \n",
      "1  {'iso_language_code': 'en', 'result_type': 're...   \n",
      "2  {'iso_language_code': 'en', 'result_type': 're...   \n",
      "3  {'iso_language_code': 'en', 'result_type': 're...   \n",
      "4  {'iso_language_code': 'en', 'result_type': 're...   \n",
      "\n",
      "                                              source  in_reply_to_status_id  \\\n",
      "0  <a href=\"http://twitter.com/download/android\" ...                    NaN   \n",
      "1  <a href=\"http://twitter.com/download/iphone\" r...           1.024128e+18   \n",
      "2  <a href=\"http://twitter.com/download/iphone\" r...                    NaN   \n",
      "3  <a href=\"http://twitter.com/download/android\" ...                    NaN   \n",
      "4  <a href=\"http://twitter.com/download/iphone\" r...                    NaN   \n",
      "\n",
      "   in_reply_to_status_id_str  ...  extended_entities  quoted_status  \\\n",
      "0                        NaN  ...                NaN            NaN   \n",
      "1               1.024128e+18  ...                NaN            NaN   \n",
      "2                        NaN  ...                NaN            NaN   \n",
      "3                        NaN  ...                NaN            NaN   \n",
      "4                        NaN  ...                NaN            NaN   \n",
      "\n",
      "  withheld_in_countries is_viral tweet_length followers_count friends_count  \\\n",
      "0                   NaN        0          140             215           335   \n",
      "1                   NaN        0           77             199           203   \n",
      "2                   NaN        0          140             196           558   \n",
      "3                   NaN        1          140            3313          2272   \n",
      "4                   NaN        0          140             125           273   \n",
      "\n",
      "   hashtags links  words  \n",
      "0         0     0     26  \n",
      "1         0     0     15  \n",
      "2         0     0     22  \n",
      "3         0     0     24  \n",
      "4         0     0     24  \n",
      "\n",
      "[5 rows x 38 columns]\n"
     ]
    }
   ],
   "source": [
    "print(all_tweets.head())"
   ]
  },
  {
   "cell_type": "code",
   "execution_count": 7,
   "metadata": {},
   "outputs": [],
   "source": [
    "labels = all_tweets['is_viral']\n",
    "data = all_tweets[['tweet_length', 'followers_count', 'friends_count', 'hashtags', 'links', 'words']]"
   ]
  },
  {
   "cell_type": "code",
   "execution_count": 8,
   "metadata": {},
   "outputs": [
    {
     "name": "stdout",
     "output_type": "stream",
     "text": [
      "[ 0.6164054  -0.02878298 -0.14483305 -0.32045057 -0.78415588  1.15105133]\n"
     ]
    }
   ],
   "source": [
    "from sklearn.preprocessing import scale\n",
    "scaled_data = scale(data, axis = 0)\n",
    "print(scaled_data[0])"
   ]
  },
  {
   "cell_type": "code",
   "execution_count": 9,
   "metadata": {},
   "outputs": [],
   "source": [
    "from sklearn.model_selection import train_test_split\n",
    "training_data, validation_data, training_labels, validation_labels = train_test_split(scaled_data, labels, train_size = 0.8, test_size = 0.2, random_state = 1)"
   ]
  },
  {
   "cell_type": "code",
   "execution_count": 10,
   "metadata": {},
   "outputs": [
    {
     "name": "stdout",
     "output_type": "stream",
     "text": [
      "0.7175675675675676\n"
     ]
    }
   ],
   "source": [
    "from sklearn.neighbors import KNeighborsClassifier\n",
    "classifier = KNeighborsClassifier(n_neighbors = 5)\n",
    "classifier.fit(training_data, training_labels)\n",
    "print(classifier.score(validation_data, validation_labels))\n"
   ]
  },
  {
   "cell_type": "code",
   "execution_count": 11,
   "metadata": {},
   "outputs": [
    {
     "data": {
      "image/png": "[encoded data removed]",
      "text/plain": [
       "<Figure size 432x288 with 1 Axes>"
      ]
     },
     "metadata": {
      "needs_background": "light"
     },
     "output_type": "display_data"
    }
   ],
   "source": [
    "import matplotlib.pyplot as plt\n",
    "scores = []\n",
    "for k in range(1,200):\n",
    "    classifier = KNeighborsClassifier(n_neighbors = k)\n",
    "    classifier.fit(training_data, training_labels)\n",
    "    scores.append(classifier.score(validation_data, validation_labels))\n",
    "plt.plot(range(1,200), scores)\n",
    "plt.show()\n"
   ]
  },
  {
   "cell_type": "code",
   "execution_count": null,
   "metadata": {},
   "outputs": [],
   "source": []
  }
 ],
 "metadata": {
  "kernelspec": {
   "display_name": "Python 3",
   "language": "python",
   "name": "python3"
  },
  "language_info": {
   "codemirror_mode": {
    "name": "ipython",
    "version": 3
   },
   "file_extension": ".py",
   "mimetype": "text/x-python",
   "name": "python",
   "nbconvert_exporter": "python",
   "pygments_lexer": "ipython3",
   "version": "3.8.5"
  }
 },
 "nbformat": 4,
 "nbformat_minor": 4
}
